{
 "cells": [
  {
   "cell_type": "code",
   "execution_count": 119,
   "id": "c4269900",
   "metadata": {},
   "outputs": [],
   "source": [
    "import pandas as pd\n",
    "import numpy as np\n",
    "import matplotlib.pyplot as plt"
   ]
  },
  {
   "cell_type": "code",
   "execution_count": 120,
   "id": "29faccfc",
   "metadata": {},
   "outputs": [],
   "source": [
    "kgp = pd.read_csv('data/kgp.csv')\n",
    "bha = pd.read_csv('data/bha.csv')"
   ]
  },
  {
   "cell_type": "code",
   "execution_count": 121,
   "id": "8a50c66d",
   "metadata": {},
   "outputs": [],
   "source": [
    "state = 'Delhi'"
   ]
  },
  {
   "cell_type": "code",
   "execution_count": 122,
   "id": "7c223d1a",
   "metadata": {},
   "outputs": [
    {
     "data": {
      "text/html": [
       "<div>\n",
       "<style scoped>\n",
       "    .dataframe tbody tr th:only-of-type {\n",
       "        vertical-align: middle;\n",
       "    }\n",
       "\n",
       "    .dataframe tbody tr th {\n",
       "        vertical-align: top;\n",
       "    }\n",
       "\n",
       "    .dataframe thead th {\n",
       "        text-align: right;\n",
       "    }\n",
       "</style>\n",
       "<table border=\"1\" class=\"dataframe\">\n",
       "  <thead>\n",
       "    <tr style=\"text-align: right;\">\n",
       "      <th></th>\n",
       "      <th>date</th>\n",
       "      <th>state</th>\n",
       "      <th>count</th>\n",
       "      <th>rm</th>\n",
       "    </tr>\n",
       "  </thead>\n",
       "  <tbody>\n",
       "    <tr>\n",
       "      <th>0</th>\n",
       "      <td>2020-03-02</td>\n",
       "      <td>Delhi</td>\n",
       "      <td>0.000035</td>\n",
       "      <td>NaN</td>\n",
       "    </tr>\n",
       "    <tr>\n",
       "      <th>1</th>\n",
       "      <td>2020-03-03</td>\n",
       "      <td>Delhi</td>\n",
       "      <td>0.000000</td>\n",
       "      <td>NaN</td>\n",
       "    </tr>\n",
       "    <tr>\n",
       "      <th>2</th>\n",
       "      <td>2020-03-04</td>\n",
       "      <td>Delhi</td>\n",
       "      <td>0.000000</td>\n",
       "      <td>NaN</td>\n",
       "    </tr>\n",
       "    <tr>\n",
       "      <th>3</th>\n",
       "      <td>2020-03-05</td>\n",
       "      <td>Delhi</td>\n",
       "      <td>0.000035</td>\n",
       "      <td>NaN</td>\n",
       "    </tr>\n",
       "    <tr>\n",
       "      <th>4</th>\n",
       "      <td>2020-03-06</td>\n",
       "      <td>Delhi</td>\n",
       "      <td>0.000035</td>\n",
       "      <td>0.000021</td>\n",
       "    </tr>\n",
       "    <tr>\n",
       "      <th>...</th>\n",
       "      <td>...</td>\n",
       "      <td>...</td>\n",
       "      <td>...</td>\n",
       "      <td>...</td>\n",
       "    </tr>\n",
       "    <tr>\n",
       "      <th>604</th>\n",
       "      <td>2021-10-27</td>\n",
       "      <td>Delhi</td>\n",
       "      <td>0.001338</td>\n",
       "      <td>0.001289</td>\n",
       "    </tr>\n",
       "    <tr>\n",
       "      <th>605</th>\n",
       "      <td>2021-10-28</td>\n",
       "      <td>Delhi</td>\n",
       "      <td>0.001479</td>\n",
       "      <td>0.001303</td>\n",
       "    </tr>\n",
       "    <tr>\n",
       "      <th>606</th>\n",
       "      <td>2021-10-29</td>\n",
       "      <td>Delhi</td>\n",
       "      <td>0.001303</td>\n",
       "      <td>0.001303</td>\n",
       "    </tr>\n",
       "    <tr>\n",
       "      <th>607</th>\n",
       "      <td>2021-10-30</td>\n",
       "      <td>Delhi</td>\n",
       "      <td>0.001303</td>\n",
       "      <td>0.001373</td>\n",
       "    </tr>\n",
       "    <tr>\n",
       "      <th>608</th>\n",
       "      <td>2021-10-31</td>\n",
       "      <td>Delhi</td>\n",
       "      <td>0.001585</td>\n",
       "      <td>0.001402</td>\n",
       "    </tr>\n",
       "  </tbody>\n",
       "</table>\n",
       "<p>609 rows × 4 columns</p>\n",
       "</div>"
      ],
      "text/plain": [
       "           date  state     count        rm\n",
       "0    2020-03-02  Delhi  0.000035       NaN\n",
       "1    2020-03-03  Delhi  0.000000       NaN\n",
       "2    2020-03-04  Delhi  0.000000       NaN\n",
       "3    2020-03-05  Delhi  0.000035       NaN\n",
       "4    2020-03-06  Delhi  0.000035  0.000021\n",
       "..          ...    ...       ...       ...\n",
       "604  2021-10-27  Delhi  0.001338  0.001289\n",
       "605  2021-10-28  Delhi  0.001479  0.001303\n",
       "606  2021-10-29  Delhi  0.001303  0.001303\n",
       "607  2021-10-30  Delhi  0.001303  0.001373\n",
       "608  2021-10-31  Delhi  0.001585  0.001402\n",
       "\n",
       "[609 rows x 4 columns]"
      ]
     },
     "execution_count": 122,
     "metadata": {},
     "output_type": "execute_result"
    }
   ],
   "source": [
    "kgp['count'] = kgp['count'] / kgp['count'].max()\n",
    "\n",
    "df = bha[bha['state'] == state]\n",
    "df = df.reset_index(drop = True)\n",
    "\n",
    "mx = df.describe().loc['max']['count']\n",
    "cutoff = mx * 0.05\n",
    "\n",
    "df['count'] = df['count'] / mx\n",
    "\n",
    "df['rm'] = df['count'].rolling(5).mean()\n",
    "\n",
    "df"
   ]
  },
  {
   "cell_type": "code",
   "execution_count": 123,
   "id": "88a91b9f",
   "metadata": {},
   "outputs": [
    {
     "data": {
      "text/plain": [
       "(393, 414, 0.03493572812114809, 1.0)"
      ]
     },
     "execution_count": 123,
     "metadata": {},
     "output_type": "execute_result"
    }
   ],
   "source": [
    "id_start = 0\n",
    "id_end = df['count'].idxmax()\n",
    "\n",
    "mx = df.describe().loc['max']['count']\n",
    "cutoff = mx * 0.05\n",
    "\n",
    "for id in range(id_end, 0, -1):\n",
    "    if df.iloc[id]['count'] < cutoff:\n",
    "        id_start = id\n",
    "        break\n",
    "id_start, id_end, df.iloc[id_start]['count'], df.iloc[id_end]['count']"
   ]
  },
  {
   "cell_type": "code",
   "execution_count": 124,
   "id": "4f051b0f",
   "metadata": {
    "scrolled": true
   },
   "outputs": [
    {
     "data": {
      "text/html": [
       "<div>\n",
       "<style scoped>\n",
       "    .dataframe tbody tr th:only-of-type {\n",
       "        vertical-align: middle;\n",
       "    }\n",
       "\n",
       "    .dataframe tbody tr th {\n",
       "        vertical-align: top;\n",
       "    }\n",
       "\n",
       "    .dataframe thead th {\n",
       "        text-align: right;\n",
       "    }\n",
       "</style>\n",
       "<table border=\"1\" class=\"dataframe\">\n",
       "  <thead>\n",
       "    <tr style=\"text-align: right;\">\n",
       "      <th></th>\n",
       "      <th>date</th>\n",
       "      <th>state</th>\n",
       "      <th>count</th>\n",
       "      <th>rm</th>\n",
       "    </tr>\n",
       "  </thead>\n",
       "  <tbody>\n",
       "    <tr>\n",
       "      <th>0</th>\n",
       "      <td>2021-03-30</td>\n",
       "      <td>Delhi</td>\n",
       "      <td>0.034936</td>\n",
       "      <td>0.055425</td>\n",
       "    </tr>\n",
       "    <tr>\n",
       "      <th>1</th>\n",
       "      <td>2021-03-31</td>\n",
       "      <td>Delhi</td>\n",
       "      <td>0.064061</td>\n",
       "      <td>0.057433</td>\n",
       "    </tr>\n",
       "    <tr>\n",
       "      <th>2</th>\n",
       "      <td>2021-04-01</td>\n",
       "      <td>Delhi</td>\n",
       "      <td>0.098257</td>\n",
       "      <td>0.066110</td>\n",
       "    </tr>\n",
       "    <tr>\n",
       "      <th>3</th>\n",
       "      <td>2021-04-02</td>\n",
       "      <td>Delhi</td>\n",
       "      <td>0.126572</td>\n",
       "      <td>0.078176</td>\n",
       "    </tr>\n",
       "    <tr>\n",
       "      <th>4</th>\n",
       "      <td>2021-04-03</td>\n",
       "      <td>Delhi</td>\n",
       "      <td>0.125621</td>\n",
       "      <td>0.089889</td>\n",
       "    </tr>\n",
       "    <tr>\n",
       "      <th>5</th>\n",
       "      <td>2021-04-04</td>\n",
       "      <td>Delhi</td>\n",
       "      <td>0.142032</td>\n",
       "      <td>0.111308</td>\n",
       "    </tr>\n",
       "    <tr>\n",
       "      <th>6</th>\n",
       "      <td>2021-04-05</td>\n",
       "      <td>Delhi</td>\n",
       "      <td>0.124952</td>\n",
       "      <td>0.123487</td>\n",
       "    </tr>\n",
       "    <tr>\n",
       "      <th>7</th>\n",
       "      <td>2021-04-06</td>\n",
       "      <td>Delhi</td>\n",
       "      <td>0.179609</td>\n",
       "      <td>0.139757</td>\n",
       "    </tr>\n",
       "    <tr>\n",
       "      <th>8</th>\n",
       "      <td>2021-04-07</td>\n",
       "      <td>Delhi</td>\n",
       "      <td>0.193907</td>\n",
       "      <td>0.153224</td>\n",
       "    </tr>\n",
       "    <tr>\n",
       "      <th>9</th>\n",
       "      <td>2021-04-08</td>\n",
       "      <td>Delhi</td>\n",
       "      <td>0.261912</td>\n",
       "      <td>0.180482</td>\n",
       "    </tr>\n",
       "    <tr>\n",
       "      <th>10</th>\n",
       "      <td>2021-04-09</td>\n",
       "      <td>Delhi</td>\n",
       "      <td>0.300088</td>\n",
       "      <td>0.212094</td>\n",
       "    </tr>\n",
       "    <tr>\n",
       "      <th>11</th>\n",
       "      <td>2021-04-10</td>\n",
       "      <td>Delhi</td>\n",
       "      <td>0.278112</td>\n",
       "      <td>0.242726</td>\n",
       "    </tr>\n",
       "    <tr>\n",
       "      <th>12</th>\n",
       "      <td>2021-04-11</td>\n",
       "      <td>Delhi</td>\n",
       "      <td>0.379433</td>\n",
       "      <td>0.282691</td>\n",
       "    </tr>\n",
       "    <tr>\n",
       "      <th>13</th>\n",
       "      <td>2021-04-12</td>\n",
       "      <td>Delhi</td>\n",
       "      <td>0.404684</td>\n",
       "      <td>0.324846</td>\n",
       "    </tr>\n",
       "    <tr>\n",
       "      <th>14</th>\n",
       "      <td>2021-04-13</td>\n",
       "      <td>Delhi</td>\n",
       "      <td>0.474309</td>\n",
       "      <td>0.367325</td>\n",
       "    </tr>\n",
       "    <tr>\n",
       "      <th>15</th>\n",
       "      <td>2021-04-14</td>\n",
       "      <td>Delhi</td>\n",
       "      <td>0.608628</td>\n",
       "      <td>0.429033</td>\n",
       "    </tr>\n",
       "    <tr>\n",
       "      <th>16</th>\n",
       "      <td>2021-04-15</td>\n",
       "      <td>Delhi</td>\n",
       "      <td>0.588096</td>\n",
       "      <td>0.491030</td>\n",
       "    </tr>\n",
       "    <tr>\n",
       "      <th>17</th>\n",
       "      <td>2021-04-16</td>\n",
       "      <td>Delhi</td>\n",
       "      <td>0.686248</td>\n",
       "      <td>0.552393</td>\n",
       "    </tr>\n",
       "    <tr>\n",
       "      <th>18</th>\n",
       "      <td>2021-04-17</td>\n",
       "      <td>Delhi</td>\n",
       "      <td>0.858426</td>\n",
       "      <td>0.643141</td>\n",
       "    </tr>\n",
       "    <tr>\n",
       "      <th>19</th>\n",
       "      <td>2021-04-18</td>\n",
       "      <td>Delhi</td>\n",
       "      <td>0.896707</td>\n",
       "      <td>0.727621</td>\n",
       "    </tr>\n",
       "    <tr>\n",
       "      <th>20</th>\n",
       "      <td>2021-04-19</td>\n",
       "      <td>Delhi</td>\n",
       "      <td>0.834161</td>\n",
       "      <td>0.772728</td>\n",
       "    </tr>\n",
       "    <tr>\n",
       "      <th>21</th>\n",
       "      <td>2021-04-20</td>\n",
       "      <td>Delhi</td>\n",
       "      <td>1.000000</td>\n",
       "      <td>0.855108</td>\n",
       "    </tr>\n",
       "  </tbody>\n",
       "</table>\n",
       "</div>"
      ],
      "text/plain": [
       "          date  state     count        rm\n",
       "0   2021-03-30  Delhi  0.034936  0.055425\n",
       "1   2021-03-31  Delhi  0.064061  0.057433\n",
       "2   2021-04-01  Delhi  0.098257  0.066110\n",
       "3   2021-04-02  Delhi  0.126572  0.078176\n",
       "4   2021-04-03  Delhi  0.125621  0.089889\n",
       "5   2021-04-04  Delhi  0.142032  0.111308\n",
       "6   2021-04-05  Delhi  0.124952  0.123487\n",
       "7   2021-04-06  Delhi  0.179609  0.139757\n",
       "8   2021-04-07  Delhi  0.193907  0.153224\n",
       "9   2021-04-08  Delhi  0.261912  0.180482\n",
       "10  2021-04-09  Delhi  0.300088  0.212094\n",
       "11  2021-04-10  Delhi  0.278112  0.242726\n",
       "12  2021-04-11  Delhi  0.379433  0.282691\n",
       "13  2021-04-12  Delhi  0.404684  0.324846\n",
       "14  2021-04-13  Delhi  0.474309  0.367325\n",
       "15  2021-04-14  Delhi  0.608628  0.429033\n",
       "16  2021-04-15  Delhi  0.588096  0.491030\n",
       "17  2021-04-16  Delhi  0.686248  0.552393\n",
       "18  2021-04-17  Delhi  0.858426  0.643141\n",
       "19  2021-04-18  Delhi  0.896707  0.727621\n",
       "20  2021-04-19  Delhi  0.834161  0.772728\n",
       "21  2021-04-20  Delhi  1.000000  0.855108"
      ]
     },
     "execution_count": 124,
     "metadata": {},
     "output_type": "execute_result"
    }
   ],
   "source": [
    "df = df.iloc[id_start : id_end+1]\n",
    "df = df.reset_index(drop = True)\n",
    "df"
   ]
  },
  {
   "cell_type": "code",
   "execution_count": 125,
   "id": "4cdd5021",
   "metadata": {},
   "outputs": [
    {
     "data": {
      "image/png": "[encoded data removed]",
      "text/plain": [
       "<Figure size 432x288 with 1 Axes>"
      ]
     },
     "metadata": {
      "needs_background": "light"
     },
     "output_type": "display_data"
    }
   ],
   "source": [
    "plt.plot(df['date'], df['count'], '.-')\n",
    "plt.plot(df['date'], df['rm'], 'r', linewidth = 0.5)\n",
    "plt.xticks([])\n",
    "plt.show()"
   ]
  },
  {
   "cell_type": "code",
   "execution_count": 126,
   "id": "c5476eb7",
   "metadata": {},
   "outputs": [],
   "source": [
    "from math import ceil\n",
    "\n",
    "def get_sample(sequence, num):\n",
    "    length = float(len(sequence))\n",
    "    res = []\n",
    "    for i in range(num):\n",
    "        res.append(sequence[int(ceil(i * length / num))])\n",
    "    return res"
   ]
  },
  {
   "cell_type": "code",
   "execution_count": 127,
   "id": "a89af850",
   "metadata": {},
   "outputs": [],
   "source": [
    "def get_dist(v1, v2):\n",
    "    res = 0\n",
    "    for i in range(len(v1)):\n",
    "        res = res + (v1[i]-v2[i]) ** 2\n",
    "    return res"
   ]
  },
  {
   "cell_type": "code",
   "execution_count": 128,
   "id": "b4f70c6b",
   "metadata": {},
   "outputs": [
    {
     "data": {
      "text/plain": [
       "[0.05542525092445853,\n",
       " 0.07817573516464166,\n",
       " 0.11130832893114986,\n",
       " 0.15322415918295476,\n",
       " 0.21209367846451838,\n",
       " 0.3248459235780947,\n",
       " 0.4290332805071316,\n",
       " 0.6431413981334743,\n",
       " 0.7727275928860714]"
      ]
     },
     "execution_count": 128,
     "metadata": {},
     "output_type": "execute_result"
    }
   ],
   "source": [
    "sample = get_sample(df['rm'], 9)\n",
    "sample"
   ]
  },
  {
   "cell_type": "code",
   "execution_count": 129,
   "id": "7fb4837a",
   "metadata": {},
   "outputs": [
    {
     "data": {
      "text/plain": [
       "0.0994494767907105"
      ]
     },
     "execution_count": 129,
     "metadata": {},
     "output_type": "execute_result"
    }
   ],
   "source": [
    "dist = get_dist(sample, kgp['count'])\n",
    "dist"
   ]
  },
  {
   "cell_type": "code",
   "execution_count": 130,
   "id": "11b5bbc4",
   "metadata": {},
   "outputs": [
    {
     "data": {
      "image/png": "[encoded data removed]",
      "text/plain": [
       "<Figure size 432x288 with 1 Axes>"
      ]
     },
     "metadata": {
      "needs_background": "light"
     },
     "output_type": "display_data"
    }
   ],
   "source": [
    "plt.plot(range(0, 9), sample, '.-')\n",
    "plt.plot(range(0, 9), kgp['count'], '.-')\n",
    "plt.title(state + ' ' + str(dist))\n",
    "plt.show()"
   ]
  }
 ],
 "metadata": {
  "kernelspec": {
   "display_name": "Python 3 (ipykernel)",
   "language": "python",
   "name": "python3"
  },
  "language_info": {
   "codemirror_mode": {
    "name": "ipython",
    "version": 3
   },
   "file_extension": ".py",
   "mimetype": "text/x-python",
   "name": "python",
   "nbconvert_exporter": "python",
   "pygments_lexer": "ipython3",
   "version": "3.9.7"
  }
 },
 "nbformat": 4,
 "nbformat_minor": 5
}
